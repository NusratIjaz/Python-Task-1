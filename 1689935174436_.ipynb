{
 "cells": [
  {
   "cell_type": "code",
   "execution_count": 4,
   "metadata": {},
   "outputs": [
    {
     "name": "stdout",
     "output_type": "stream",
     "text": [
      "generate a password\n"
     ]
    }
   ],
   "source": [
    "import random\n",
    "lower_case= \"abcdefghijklmnopqrstuvwxxyz\"\n",
    "upper_case=\"ABCDEFGHIJKLMNOPQRSTUVWXYZ\"\n",
    "numbers=\"012345789\"\n",
    "symbols=\"!@#$%^&*-=;.,\"\n",
    "length=12\n",
    "answer=\"lower_case+upper_case+numbers+symbols\"\n",
    "password=\"\".join(random.sample(answer,length))\n",
    "print(\"generate a password\")\n"
   ]
  },
  {
   "cell_type": "code",
   "execution_count": 5,
   "metadata": {},
   "outputs": [
    {
     "data": {
      "text/plain": [
       "'eo+llbbsm_es'"
      ]
     },
     "execution_count": 5,
     "metadata": {},
     "output_type": "execute_result"
    }
   ],
   "source": [
    "password"
   ]
  },
  {
   "cell_type": "code",
   "execution_count": 21,
   "metadata": {},
   "outputs": [
    {
     "name": "stdout",
     "output_type": "stream",
     "text": [
      "scissor\n"
     ]
    }
   ],
   "source": [
    "import random\n",
    "player=None\n",
    "if player==(\"rock\") :\n",
    "   print==(\"paper\")\n",
    "elif player==(\"paper\"):\n",
    "      print==(\"scissor\")\n",
    "else:\n",
    " print(\"scissor\")"
   ]
  },
  {
   "cell_type": "code",
   "execution_count": 24,
   "metadata": {},
   "outputs": [],
   "source": [
    "player=(\"rock\")"
   ]
  },
  {
   "cell_type": "code",
   "execution_count": null,
   "metadata": {},
   "outputs": [],
   "source": [
    "import random\n",
    "options=(\"rock\",\"scissor\",\"paper\")\n",
    "player=None\n",
    "computer=random.choice(options)\n",
    "player=input(\"enter a choice,(rock,paper,scissor)\")\n",
    "print(\"player:(player)\")\n",
    "print(\"compter:(computer)\")"
   ]
  }
 ],
 "metadata": {
  "kernelspec": {
   "display_name": "Python 3",
   "language": "python",
   "name": "python3"
  },
  "language_info": {
   "codemirror_mode": {
    "name": "ipython",
    "version": 3
   },
   "file_extension": ".py",
   "mimetype": "text/x-python",
   "name": "python",
   "nbconvert_exporter": "python",
   "pygments_lexer": "ipython3",
   "version": "3.11.4"
  },
  "orig_nbformat": 4
 },
 "nbformat": 4,
 "nbformat_minor": 2
}
